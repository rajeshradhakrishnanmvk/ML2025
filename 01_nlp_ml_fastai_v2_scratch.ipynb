{
  "nbformat": 4,
  "nbformat_minor": 0,
  "metadata": {
    "colab": {
      "name": "01_nlp_ml_fastai_v2_scratch.ipynb",
      "provenance": [],
      "authorship_tag": "ABX9TyNnIY2hKHulNVbw1N9SAEVE"
    },
    "kernelspec": {
      "name": "python3",
      "display_name": "Python 3"
    },
    "language_info": {
      "name": "python"
    }
  },
  "cells": [
    {
      "cell_type": "markdown",
      "metadata": {
        "id": "4hKtZizDNIsl"
      },
      "source": [
        "## Malayalam NLP\n",
        "\n",
        "* [Malayalam Common Crawl](https://calicut.qburst.in/commoncrawl/malayalam/2020-10/)\n",
        "\n",
        "  malayalam_filtered_html_body.tar.gz (1191714339 bytes)\n",
        "  \n",
        "  unfiltered_heading_and_para.tar.gz  (622916139 bytes)\n",
        "\n",
        "* [fastai - malayalam model](https://github.com/goru001/nlp-for-malyalam)\n",
        "* [fastai - new language model](https://github.com/fastai/course-nlp/blob/master/nn-vietnamese.ipynb)\n",
        "\n",
        "* [fastai - Language Zoo](https://nlp.fast.ai)\n",
        "\n",
        "\n",
        "* [iNLTK](https://inltk.readthedocs.io/en/latest/api_docs.html)\n",
        "\n",
        "\n",
        "* [fastai x huggingface x wandb](https://colab.research.google.com/gist/ohmeow/ee69e3c519bc68fbea5dd671afbdde39/fine-tuning-mrpc-with-blurr.ipynb#scrollTo=PJ3yy_PRTFZ2)\n",
        "\n",
        "  https://wandb.ai/rajeshmvk/ml-base/overview\n",
        "\n",
        "  https://github.com/goru001/nlp-for-malyalam/issues/2"
      ]
    },
    {
      "cell_type": "code",
      "metadata": {
        "id": "yrR8vHk9AQ3s"
      },
      "source": [
        "!pip install -Uqq fastbook\n",
        "!pip install -Uqq wandb"
      ],
      "execution_count": null,
      "outputs": []
    },
    {
      "cell_type": "code",
      "metadata": {
        "id": "SamQlzTZIBWS"
      },
      "source": [
        "import wandb\n",
        "import fastbook\n",
        "import sentencepiece as spm\n",
        "\n",
        "from fastbook import *\n",
        "from fastai.text.all import *\n",
        "from typing import List\n",
        "from fastai.callback.wandb import *"
      ],
      "execution_count": null,
      "outputs": []
    },
    {
      "cell_type": "code",
      "metadata": {
        "id": "Vazd4a1sIENo"
      },
      "source": [
        "fastbook.setup_book()"
      ],
      "execution_count": null,
      "outputs": []
    },
    {
      "cell_type": "code",
      "metadata": {
        "id": "HkQ7m-nkIJPO"
      },
      "source": [
        "# model_cls = AutoModelForSequenceClassification\n",
        "# checkpoint = 'ml-base-001' # TIP: try different architectures\n",
        "\n",
        "# bsz, val_bsz = 8, 16 # TIP: training on bigger batch sizes is typically better\n",
        "\n",
        "wandb_init_kwargs = {\n",
        "    'reinit': True, \n",
        "    'project': \"ml-base\", \n",
        "    'entity': \"rajeshmvk\",\n",
        "    'group': 'ml-base-001',\n",
        "    'name': 'ml-base-001-001',  \n",
        "    'notes': 'Finetuning ml-base with fastai', \n",
        "    'tags': ['malayalam', 'ml-base', 'fastai']\n",
        "  }"
      ],
      "execution_count": null,
      "outputs": []
    },
    {
      "cell_type": "code",
      "metadata": {
        "id": "lzO6WcmHIj3l"
      },
      "source": [
        "LCL_PATH=\"/content/drive/MyDrive/Colab Notebooks/nlp-for-malyalam/\""
      ],
      "execution_count": null,
      "outputs": []
    },
    {
      "cell_type": "markdown",
      "metadata": {
        "id": "WtTG3EwjMFJE"
      },
      "source": [
        "# Data Prep"
      ]
    },
    {
      "cell_type": "code",
      "metadata": {
        "id": "GZglgZXjMKpB"
      },
      "source": [
        "URL_MAL = 'https://calicut.qburst.in/commoncrawl/malayalam/2020-10/malayalam_filtered_html_body.tar.gz'"
      ],
      "execution_count": null,
      "outputs": []
    },
    {
      "cell_type": "code",
      "metadata": {
        "id": "3aI41pwTMPLN"
      },
      "source": [
        "!wget https://calicut.qburst.in/commoncrawl/malayalam/2020-10/malayalam_filtered_html_body.tar.gz\n",
        "!tar -xf malayalam_filtered_html_body.tar.gz"
      ],
      "execution_count": null,
      "outputs": []
    },
    {
      "cell_type": "code",
      "metadata": {
        "id": "a900jqZaMRK_"
      },
      "source": [
        "path = untar_data(URL_MAL)"
      ],
      "execution_count": null,
      "outputs": []
    },
    {
      "cell_type": "code",
      "metadata": {
        "id": "dff079LFMSxu"
      },
      "source": [
        "#!mv mal-txt /\n",
        "#!tar -czf mal-wiki-txt.tar.gz /mal-txt \n",
        "#!mv mal-wiki-txt.tar.gz /content/drive/MyDrive/'Colab Notebooks'/nlp-for-malyalam/data/ "
      ],
      "execution_count": null,
      "outputs": []
    },
    {
      "cell_type": "code",
      "metadata": {
        "id": "-1U3x1-_MU7b"
      },
      "source": [
        "# from google.colab import files\n",
        "# files.download(\"/content/malayalam_filtered_html_body/000001_html_body.txt\")"
      ],
      "execution_count": null,
      "outputs": []
    },
    {
      "cell_type": "code",
      "metadata": {
        "id": "cv6rU93bMZRV"
      },
      "source": [
        "! head -n10 /mal-txt/000002_html_body.txt"
      ],
      "execution_count": null,
      "outputs": []
    },
    {
      "cell_type": "code",
      "metadata": {
        "id": "ao6rFNcqMbSs"
      },
      "source": [
        "!tar -xf /content/drive/MyDrive/'Colab Notebooks'/nlp-for-malyalam/data/mal-wiki-txt.tar.gz"
      ],
      "execution_count": null,
      "outputs": []
    },
    {
      "cell_type": "code",
      "metadata": {
        "id": "SlnCBUQFMhQE"
      },
      "source": [
        "#!cp /content/drive/MyDrive/'Colab Notebooks'/nlp-for-malyalam/data/mal-wiki-txt.tar.gz ./\n",
        "#!tar -xf /content/mal-wiki-txt.tar.gz\n",
        "#!mv /content/mal-txt /\n",
        "path = Path('/mal-txt')"
      ],
      "execution_count": null,
      "outputs": []
    },
    {
      "cell_type": "code",
      "metadata": {
        "id": "DVtOHQiZMmym"
      },
      "source": [
        "path.ls()"
      ],
      "execution_count": null,
      "outputs": []
    },
    {
      "cell_type": "code",
      "metadata": {
        "id": "coEAKP3QMos9"
      },
      "source": [
        "files = get_text_files(path)\n",
        "files"
      ],
      "execution_count": null,
      "outputs": []
    },
    {
      "cell_type": "code",
      "metadata": {
        "id": "FCE-00UkMqUV"
      },
      "source": [
        "txt = files[0].open().read(); txt[:75]"
      ],
      "execution_count": null,
      "outputs": []
    },
    {
      "cell_type": "code",
      "metadata": {
        "id": "XwJ9aJAdMsbH"
      },
      "source": [
        "class MalyalamTokenizer(BaseTokenizer):\n",
        "    def __init__(self, split_char=' ',lang:str='ml'):\n",
        "        self.split_char=split_char\n",
        "        self.lang = lang\n",
        "        self.sp = spm.SentencePieceProcessor()\n",
        "        self.sp.Load(LCL_PATH + \"models/tokenizer/malyalam_lm.model\")\n",
        "        \n",
        "    def tokenizer(self, t:str) -> List[str]:\n",
        "        return self.sp.EncodeAsPieces(t)"
      ],
      "execution_count": null,
      "outputs": []
    },
    {
      "cell_type": "code",
      "metadata": {
        "id": "wbjhhL4DMuq4"
      },
      "source": [
        "spacy = WordTokenizer()\n",
        "toks = first(spacy([txt]))\n",
        "print(coll_repr(toks, 30))"
      ],
      "execution_count": null,
      "outputs": []
    },
    {
      "cell_type": "code",
      "metadata": {
        "id": "PhQpmUo4MxaV"
      },
      "source": [
        "sp = spm.SentencePieceProcessor()\n",
        "sp.Load(str(LCL_PATH + \"models/tokenizer/malyalam_lm.model\"))\n",
        "itos = [sp.IdToPiece(int(i)) for i in range(10000)]"
      ],
      "execution_count": null,
      "outputs": []
    },
    {
      "cell_type": "code",
      "metadata": {
        "id": "t8-9Z1gfMy_d"
      },
      "source": [
        "num = Numericalize()\n",
        "num.setup(itos)\n",
        "coll_repr(num.vocab,20)"
      ],
      "execution_count": null,
      "outputs": []
    },
    {
      "cell_type": "code",
      "metadata": {
        "id": "4OskgYW6M0sF"
      },
      "source": [
        "len(itos)"
      ],
      "execution_count": null,
      "outputs": []
    },
    {
      "cell_type": "code",
      "metadata": {
        "id": "rO_qIwgyM2hM"
      },
      "source": [
        "doc(RandomSplitter)"
      ],
      "execution_count": null,
      "outputs": []
    },
    {
      "cell_type": "code",
      "metadata": {
        "id": "AilOZpz4M4Rl"
      },
      "source": [
        "get_mal = partial(get_text_files)\n",
        "# bs=16\n",
        "# bs=24\n",
        "# bs=48\n",
        "bs=64\n",
        "# bs=128\n",
        "\n",
        "wiki_ml = DataBlock(\n",
        "    blocks=TextBlock.from_folder(path, max_vocab=9998, extensions='.txt'),\n",
        "    get_items=get_mal, splitter=RandomSplitter(0.2, seed=42)\n",
        ")\n",
        "\n",
        "# wiki_ml = DataBlock(\n",
        "#     blocks=TextBlock.from_folder(path, is_lm=True,seq_len=80,max_vocab=9998, extensions='.txt'),\n",
        "#     get_items=get_mal, splitter=RandomSplitter(0.1, seed=42)\n",
        "# )\n"
      ],
      "execution_count": null,
      "outputs": []
    },
    {
      "cell_type": "code",
      "metadata": {
        "id": "TZrSuXhBM7Ek"
      },
      "source": [
        "dls_lm = wiki_ml.dataloaders(path, path=path, bs=bs, seq_len=80)"
      ],
      "execution_count": null,
      "outputs": []
    },
    {
      "cell_type": "code",
      "metadata": {
        "id": "aG5WyBlaM-N1"
      },
      "source": [
        "wiki_ml.summary(path)"
      ],
      "execution_count": null,
      "outputs": []
    },
    {
      "cell_type": "code",
      "metadata": {
        "id": "O58trcUwM_zk"
      },
      "source": [
        "len(dls_lm.vocab)"
      ],
      "execution_count": null,
      "outputs": []
    },
    {
      "cell_type": "code",
      "metadata": {
        "id": "FcKsZNKBNE6F"
      },
      "source": [
        "## Save the vocab\n",
        "pickle.dump(dls_lm.vocab, open( LCL_PATH + '/data/ml_002.vocab.pkl', 'wb'))"
      ],
      "execution_count": null,
      "outputs": []
    },
    {
      "cell_type": "code",
      "metadata": {
        "id": "8b_pjJpuNFQ-"
      },
      "source": [
        "dls_lm.show_batch(max_n=2)"
      ],
      "execution_count": null,
      "outputs": []
    },
    {
      "cell_type": "markdown",
      "metadata": {
        "id": "CkNMkGI7MLn1"
      },
      "source": [
        "# Training"
      ]
    },
    {
      "cell_type": "code",
      "metadata": {
        "id": "F8TisDOFIkP9"
      },
      "source": [
        "config = awd_lstm_lm_config.copy()\n",
        "config['n_hid'] = 1150\n",
        "lm_fns = [LCL_PATH + 'models/language-model/ULMFiT/third_ml_lm', LCL_PATH + 'models/tokenizer/malyalam_lm.vocab']\n",
        "# learn_lm = language_model_learner(dls_lm, AWD_LSTM,config=config, pretrained_fnames=lm_fns, drop_mult=0.3)\n",
        "learn_lm = language_model_learner(dls_lm, AWD_LSTM,config=config, pretrained_fnames=lm_fns, drop_mult=0.3).to_fp16()"
      ],
      "execution_count": null,
      "outputs": []
    },
    {
      "cell_type": "code",
      "metadata": {
        "id": "Pqo4mL6YIovm"
      },
      "source": [
        "wandb.init(**wandb_init_kwargs)"
      ],
      "execution_count": null,
      "outputs": []
    },
    {
      "cell_type": "code",
      "metadata": {
        "id": "AKnEypwpIq5j"
      },
      "source": [
        "learn_lm.unfreeze()"
      ],
      "execution_count": null,
      "outputs": []
    },
    {
      "cell_type": "code",
      "metadata": {
        "id": "SZfPSxxvIyq-"
      },
      "source": [
        "learn_lm.fit_one_cycle(3, lr_max=5e-5, cbs=[WandbCallback(log_preds=False, log_model=False)]) "
      ],
      "execution_count": null,
      "outputs": []
    },
    {
      "cell_type": "code",
      "metadata": {
        "id": "35Qgwd-1I1LO"
      },
      "source": [
        "learn_lm.fit_one_cycle(1, 8e-3)"
      ],
      "execution_count": null,
      "outputs": []
    },
    {
      "cell_type": "code",
      "metadata": {
        "id": "aB0yglMqI1ml"
      },
      "source": [
        "learn_lm.lr_find()"
      ],
      "execution_count": null,
      "outputs": []
    },
    {
      "cell_type": "code",
      "metadata": {
        "id": "DF_XZf48I4M_"
      },
      "source": [
        "learn_lm.unfreeze()"
      ],
      "execution_count": null,
      "outputs": []
    },
    {
      "cell_type": "code",
      "metadata": {
        "id": "CJTBRrc5I6cO"
      },
      "source": [
        "learn_lm.fit_one_cycle(5, 1e-3)"
      ],
      "execution_count": null,
      "outputs": []
    },
    {
      "cell_type": "code",
      "metadata": {
        "id": "MDIZnPhrI8U2"
      },
      "source": [
        "val_res = learn_lm.validate()\n",
        "\n",
        "val_res_d = { 'loss': val_res[0]}\n",
        "for idx, m in enumerate(learn_lm.metrics):\n",
        "    val_res_d[m.name] = val_res[idx+1]\n",
        "    \n",
        "val_res_d"
      ],
      "execution_count": null,
      "outputs": []
    },
    {
      "cell_type": "code",
      "metadata": {
        "id": "-HQnwXd7JKOb"
      },
      "source": [
        "preds, targs, losses = learn_lm.get_preds(with_loss=True)\n",
        "print(preds.shape, targs.shape, losses.shape)\n",
        "print(losses.mean(), accuracy(preds, targs))"
      ],
      "execution_count": null,
      "outputs": []
    },
    {
      "cell_type": "code",
      "metadata": {
        "id": "LRoR-pqnJMLQ"
      },
      "source": [
        "wandb.finish()"
      ],
      "execution_count": null,
      "outputs": []
    },
    {
      "cell_type": "code",
      "metadata": {
        "id": "h_j7nsRYJN6N"
      },
      "source": [
        "learn_lm.predict('മലയാള ികളായ ▁വിമാന യാത്ര ക്കാര',n_words=10)"
      ],
      "execution_count": null,
      "outputs": []
    },
    {
      "cell_type": "code",
      "metadata": {
        "id": "-IL0LMFJJQnl"
      },
      "source": [
        "learn_lm.predict('എത്തി നോക്കുന്ന തരത്തിൽ ഒരാൾ',n_words=10)"
      ],
      "execution_count": null,
      "outputs": []
    },
    {
      "cell_type": "code",
      "metadata": {
        "id": "7E2JAmB9JSmd"
      },
      "source": [
        "learn_lm.save_encoder(LCL_PATH +'/data/fine_tuned_enc_001')"
      ],
      "execution_count": null,
      "outputs": []
    },
    {
      "cell_type": "code",
      "metadata": {
        "id": "0Wuew5T_JUq_"
      },
      "source": [
        "learn_lm.save(f'{LCL_PATH}/models/language-model/ml-001epoch', with_opt=True)"
      ],
      "execution_count": null,
      "outputs": []
    },
    {
      "cell_type": "code",
      "metadata": {
        "id": "BBVpWucMJWl9"
      },
      "source": [
        "learn_lm.load(f'{LCL_PATH}/models/language-model/ml-001epoch', with_opt=True)"
      ],
      "execution_count": null,
      "outputs": []
    },
    {
      "cell_type": "code",
      "metadata": {
        "id": "7ezOSM-rKA5R"
      },
      "source": [
        "learn_lm.unfreeze()"
      ],
      "execution_count": null,
      "outputs": []
    },
    {
      "cell_type": "code",
      "metadata": {
        "id": "d893lP3aKDZH"
      },
      "source": [
        "learn_lm.fit_one_cycle(5, 1e-2, moms=(0.8,0.7))"
      ],
      "execution_count": null,
      "outputs": []
    },
    {
      "cell_type": "code",
      "metadata": {
        "id": "hyME9HZ2KFVP"
      },
      "source": [
        "TEXT = \"ബംഗാളിലെ ▁ഭരണം ▁കമ്പനി\"\n",
        "N_WORDS = 40\n",
        "N_SENTENCES = 2"
      ],
      "execution_count": null,
      "outputs": []
    },
    {
      "cell_type": "code",
      "metadata": {
        "id": "OQVE2hSPKHSg"
      },
      "source": [
        "print(\"\\n\".join(learn_lm.predict(TEXT, N_WORDS, temperature=0.75) for _ in range(N_SENTENCES)))"
      ],
      "execution_count": null,
      "outputs": []
    },
    {
      "cell_type": "code",
      "metadata": {
        "id": "bEXqORAXKJkA"
      },
      "source": [
        "learn_lm.save(f'{LCL_PATH}/models/language-model/ml-002epoch', with_opt=True)"
      ],
      "execution_count": null,
      "outputs": []
    },
    {
      "cell_type": "markdown",
      "metadata": {
        "id": "wpc4cQhVKL54"
      },
      "source": [
        "# Downstream Tasks\n",
        "* Classification"
      ]
    },
    {
      "cell_type": "markdown",
      "metadata": {
        "id": "Xi1ydsUEL3M9"
      },
      "source": [
        "## Classification"
      ]
    },
    {
      "cell_type": "code",
      "metadata": {
        "id": "zK7qUngHKkdt"
      },
      "source": [
        "# https://github.com/AI4Bharat/indicnlp_corpus#publicly-available-classification-datasets\n",
        "# https://inltk.readthedocs.io/en/latest/api_docs.html\n",
        "# https://storage.googleapis.com/ai4bharat-public-indic-nlp-corpora/data/monolingual/indicnlp_v1/sentence/ml.txt.gz\n",
        "\n",
        "df_train = pd.read_csv(path/'../../classification_public_datasets/inltk-headlines/ml/ml-train.csv', header=None)\n",
        "df_train.head()"
      ],
      "execution_count": null,
      "outputs": []
    },
    {
      "cell_type": "code",
      "metadata": {
        "id": "qpuRO_TeKpek"
      },
      "source": [
        "df_valid = pd.read_csv(path/'../../classification_public_datasets/inltk-headlines/ml/ml-valid.csv', header=None)\n",
        "df_valid.head()"
      ],
      "execution_count": null,
      "outputs": []
    },
    {
      "cell_type": "code",
      "metadata": {
        "id": "6l4BmyAxKrwN"
      },
      "source": [
        "df_test = pd.read_csv(path/'../../classification_public_datasets/inltk-headlines/ml/ml-test.csv', header=None)\n",
        "df_test.head()"
      ],
      "execution_count": null,
      "outputs": []
    },
    {
      "cell_type": "code",
      "metadata": {
        "id": "03hijVAsKt73"
      },
      "source": [
        "df_train.shape, df_valid.shape, df_test.shape"
      ],
      "execution_count": null,
      "outputs": []
    },
    {
      "cell_type": "code",
      "metadata": {
        "id": "Mb69drs3Kxrd"
      },
      "source": [
        "df_train[df_train[0].isnull()].shape, df_valid[df_valid[0].isnull()].shape, df_test[df_test[0].isnull()].shape"
      ],
      "execution_count": null,
      "outputs": []
    },
    {
      "cell_type": "code",
      "metadata": {
        "id": "f22-307dKz3V"
      },
      "source": [
        "label_cols = [0]"
      ],
      "execution_count": null,
      "outputs": []
    },
    {
      "cell_type": "code",
      "metadata": {
        "id": "byH27a9oK16G"
      },
      "source": [
        "data_clas = TextClasDataBunch.from_df(path=path, train_df=df_train, valid_df=df_valid, test_df=df_test, tokenizer=tokenizer, vocab=malyalam_vocab, bs=16)"
      ],
      "execution_count": null,
      "outputs": []
    },
    {
      "cell_type": "code",
      "metadata": {
        "id": "44-RsVD9K37l"
      },
      "source": [
        "data_clas.show_batch()"
      ],
      "execution_count": null,
      "outputs": []
    },
    {
      "cell_type": "code",
      "metadata": {
        "id": "Hl0HVT2YK6zF"
      },
      "source": [
        "del awd_lstm_config['tie_weights']\n",
        "del awd_lstm_config['out_bias']"
      ],
      "execution_count": null,
      "outputs": []
    },
    {
      "cell_type": "code",
      "metadata": {
        "id": "0Rqxjh6gK9Pi"
      },
      "source": [
        "learn = text_classifier_learner(data_clas, arch=AWD_LSTM, drop_mult=0.5, config=awd_lstm_config)"
      ],
      "execution_count": null,
      "outputs": []
    },
    {
      "cell_type": "code",
      "metadata": {
        "id": "DbdvoKZ6K_SQ"
      },
      "source": [
        "learn.load_encoder(LCL_PATH +'/data/fine_tuned_enc_001')"
      ],
      "execution_count": null,
      "outputs": []
    },
    {
      "cell_type": "code",
      "metadata": {
        "id": "0kRw2MSpLBVB"
      },
      "source": [
        "learn.freeze()"
      ],
      "execution_count": null,
      "outputs": []
    },
    {
      "cell_type": "code",
      "metadata": {
        "id": "NRHfLmg2LFuZ"
      },
      "source": [
        "learn.loss_func.func"
      ],
      "execution_count": null,
      "outputs": []
    },
    {
      "cell_type": "code",
      "metadata": {
        "id": "OcnUz4I2LHiS"
      },
      "source": [
        "mcc = MatthewsCorreff()"
      ],
      "execution_count": null,
      "outputs": []
    },
    {
      "cell_type": "code",
      "metadata": {
        "id": "6NPdHlD8LNhm"
      },
      "source": [
        "learn.metrics = [mcc, accuracy]"
      ],
      "execution_count": null,
      "outputs": []
    },
    {
      "cell_type": "code",
      "metadata": {
        "id": "-4qkkTfZLQx3"
      },
      "source": [
        "learn.fit_one_cycle(1, 1e-2)"
      ],
      "execution_count": null,
      "outputs": []
    },
    {
      "cell_type": "code",
      "metadata": {
        "id": "j5Zw9qpSLTEO"
      },
      "source": [
        "learn.freeze_to(-2)\n",
        "learn.fit_one_cycle(1, 1e-2)"
      ],
      "execution_count": null,
      "outputs": []
    },
    {
      "cell_type": "code",
      "metadata": {
        "id": "o6Vl0QzfLeVu"
      },
      "source": [
        "learn.save('second-full')"
      ],
      "execution_count": null,
      "outputs": []
    },
    {
      "cell_type": "code",
      "metadata": {
        "id": "23KFhGjALesl"
      },
      "source": [
        "learn.unfreeze()\n",
        "learn.fit_one_cycle(5, 1e-3, callbacks=[callbacks.SaveModelCallback(learn, every='improvement', monitor='accuracy', name='final')])"
      ],
      "execution_count": null,
      "outputs": []
    },
    {
      "cell_type": "code",
      "metadata": {
        "id": "yN1jKF0fLhF8"
      },
      "source": [
        "learn.load('final')"
      ],
      "execution_count": null,
      "outputs": []
    },
    {
      "cell_type": "code",
      "metadata": {
        "id": "VtR-TB-gLj-t"
      },
      "source": [
        "from sklearn.metrics import accuracy_score, matthews_corrcoef\n",
        "df_dict = {'query': list(df_test[1]), 'actual_label': list(df_test[0]), 'predicted_label': ['']*df_test.shape[0]}\n",
        "all_nodes = list(set(df_train[0]))\n",
        "for node in all_nodes:\n",
        "    df_dict[node] = ['']*df_test.shape[0]\n",
        "    \n",
        "i2c = {}\n",
        "for key, value in learn.data.c2i.items():\n",
        "    i2c[value] = key\n",
        "    \n",
        "df_result = pd.DataFrame(df_dict)\n",
        "preds = learn.get_preds(ds_type=DatasetType.Test, ordered=True)\n",
        "for index, row in df_result.iterrows():\n",
        "    for node in all_nodes:\n",
        "        row[node] = preds[0][index][learn.data.c2i[node]].item()\n",
        "    row['predicted_label'] = i2c[np.argmax(preds[0][index]).data.item()]\n",
        "df_result.head()"
      ],
      "execution_count": null,
      "outputs": []
    },
    {
      "cell_type": "code",
      "metadata": {
        "id": "ILvN38jbLmhd"
      },
      "source": [
        "accuracy_score(df_result['actual_label'], df_result['predicted_label'])"
      ],
      "execution_count": null,
      "outputs": []
    },
    {
      "cell_type": "code",
      "metadata": {
        "id": "5Luoz9rULowN"
      },
      "source": [
        "matthews_corrcoef(df_result['actual_label'], df_result['predicted_label'])"
      ],
      "execution_count": null,
      "outputs": []
    },
    {
      "cell_type": "code",
      "metadata": {
        "id": "05QI5pCDLqbt"
      },
      "source": [
        "df_result.to_csv('inltk_headlines_ml.csv', index=False)"
      ],
      "execution_count": null,
      "outputs": []
    }
  ]
}