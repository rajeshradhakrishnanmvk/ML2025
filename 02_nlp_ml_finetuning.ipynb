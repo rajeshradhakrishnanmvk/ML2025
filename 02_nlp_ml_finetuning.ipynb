{
  "nbformat": 4,
  "nbformat_minor": 0,
  "metadata": {
    "colab": {
      "name": "02_nlp_ml_finetuning.ipynb",
      "provenance": [],
      "collapsed_sections": [],
      "authorship_tag": "ABX9TyNXw9dKSduug1z6DicmaPwa"
    },
    "kernelspec": {
      "name": "python3",
      "display_name": "Python 3"
    },
    "language_info": {
      "name": "python"
    }
  },
  "cells": [
    {
      "cell_type": "code",
      "metadata": {
        "id": "qOl8KBdvXvg3"
      },
      "source": [
        "!pip install -Uqq fastbook\n",
        "!pip install -Uqq wandb"
      ],
      "execution_count": null,
      "outputs": []
    },
    {
      "cell_type": "code",
      "metadata": {
        "id": "l_HFXgZvX7Xb"
      },
      "source": [
        "import wandb\n",
        "import fastbook\n",
        "import sentencepiece as spm\n",
        "\n",
        "from fastbook import *\n",
        "from fastai.text.all import *\n",
        "from fastai.callback.wandb import *\n",
        "from typing import List"
      ],
      "execution_count": null,
      "outputs": []
    },
    {
      "cell_type": "code",
      "metadata": {
        "id": "_SdSGmfrYA_y"
      },
      "source": [
        "wandb.login()"
      ],
      "execution_count": null,
      "outputs": []
    },
    {
      "cell_type": "code",
      "metadata": {
        "id": "4FS-KWR3YFzW"
      },
      "source": [
        "wandb_init_kwargs = {\n",
        "    'reinit': True, \n",
        "    'project': \"ml-base\", \n",
        "    'entity': \"<your account name>\",\n",
        "    'group': 'ml-base-001',\n",
        "    'name': 'ml-base-001-001',  \n",
        "    'notes': 'Finetuning ml-base with fastai', \n",
        "    'tags': ['malayalam', 'ml-base', 'fastai']\n",
        "  }"
      ],
      "execution_count": null,
      "outputs": []
    },
    {
      "cell_type": "code",
      "metadata": {
        "id": "rLdI1lfmYIVt"
      },
      "source": [
        "LCL_PATH=\"/nlp-for-malyalam/\""
      ],
      "execution_count": null,
      "outputs": []
    },
    {
      "cell_type": "markdown",
      "metadata": {
        "id": "6VYR8CUPYQnS"
      },
      "source": [
        "# Feature Engineering"
      ]
    },
    {
      "cell_type": "code",
      "metadata": {
        "id": "IY3wexVKYWzK"
      },
      "source": [
        "URL_MAL = 'https://calicut.qburst.in/commoncrawl/malayalam/2020-10/malayalam_filtered_html_body.tar.gz'"
      ],
      "execution_count": null,
      "outputs": []
    },
    {
      "cell_type": "code",
      "metadata": {
        "id": "EUPxE8hSYYOi"
      },
      "source": [
        "path = untar_data(URL_MAL)"
      ],
      "execution_count": null,
      "outputs": []
    },
    {
      "cell_type": "code",
      "metadata": {
        "id": "L4FC7bLlYeti"
      },
      "source": [
        "path.ls()"
      ],
      "execution_count": null,
      "outputs": []
    },
    {
      "cell_type": "code",
      "metadata": {
        "id": "Hv-nMNwgYg78"
      },
      "source": [
        "files = get_text_files(path)\n",
        "files"
      ],
      "execution_count": null,
      "outputs": []
    },
    {
      "cell_type": "code",
      "metadata": {
        "id": "CdqOUDoaYmvM"
      },
      "source": [
        "txt = files[0].open().read(); txt[:75]"
      ],
      "execution_count": null,
      "outputs": []
    },
    {
      "cell_type": "code",
      "metadata": {
        "id": "tt-TBCOBYnk6"
      },
      "source": [
        "class MalyalamTokenizer(BaseTokenizer):\n",
        "    def __init__(self, split_char=' ',lang:str='ml'):\n",
        "        self.split_char=split_char\n",
        "        self.lang = lang\n",
        "        self.sp = spm.SentencePieceProcessor()\n",
        "        self.sp.Load(LCL_PATH + \"models/tokenizer/malyalam_lm.model\")\n",
        "        \n",
        "    def tokenizer(self, t:str) -> List[str]:\n",
        "        return self.sp.EncodeAsPieces(t)"
      ],
      "execution_count": null,
      "outputs": []
    },
    {
      "cell_type": "code",
      "metadata": {
        "id": "VYBPVn5pYuEy"
      },
      "source": [
        "get_mal = partial(get_text_files)\n",
        "# bs=16\n",
        "# bs=24\n",
        "# bs=48\n",
        "bs=64\n",
        "# bs=128\n",
        "\n",
        "wiki_ml = DataBlock(\n",
        "    blocks=TextBlock.from_folder(path, is_lm=True,seq_len=80,max_vocab=9998, extensions='.txt'),\n",
        "    get_items=get_mal, splitter=RandomSplitter(0.1, seed=42)\n",
        ")\n",
        "\n",
        "dls_lm = wiki_ml.dataloaders(path, path=path, bs=bs, seq_len=80)"
      ],
      "execution_count": null,
      "outputs": []
    },
    {
      "cell_type": "code",
      "metadata": {
        "id": "s_Azks60YvuS"
      },
      "source": [
        "## Save the vocab\n",
        "pickle.dump(dls_lm.vocab, open( LCL_PATH + '/data/ml_001.vocab.pkl', 'wb'))"
      ],
      "execution_count": null,
      "outputs": []
    },
    {
      "cell_type": "code",
      "metadata": {
        "id": "Ee6EG4CsY31k"
      },
      "source": [
        "dls_lm.show_batch(max_n=2)"
      ],
      "execution_count": null,
      "outputs": []
    },
    {
      "cell_type": "code",
      "metadata": {
        "id": "ssit2tpNY5j1"
      },
      "source": [
        "config = awd_lstm_lm_config.copy()\n",
        "config['n_hid'] = 1150\n",
        "lm_fns = [LCL_PATH + 'models/language-model/ULMFiT/third_ml_lm', LCL_PATH + 'models/tokenizer/malyalam_lm.vocab']\n",
        "learn_lm = language_model_learner(dls_lm, AWD_LSTM,config=config, pretrained_fnames=lm_fns, drop_mult=0.3)\n",
        "# learn_lm = language_model_learner(dls_lm, AWD_LSTM,config=config, pretrained_fnames=lm_fns, drop_mult=0.3).to_fp16()"
      ],
      "execution_count": null,
      "outputs": []
    },
    {
      "cell_type": "code",
      "metadata": {
        "id": "ml_JIPmtY_Kz"
      },
      "source": [
        "wandb.init(**wandb_init_kwargs)"
      ],
      "execution_count": null,
      "outputs": []
    },
    {
      "cell_type": "code",
      "metadata": {
        "id": "4VS_unlDZBEi"
      },
      "source": [
        "learn_lm.freeze()"
      ],
      "execution_count": null,
      "outputs": []
    },
    {
      "cell_type": "code",
      "metadata": {
        "id": "VHWkh3DmZEc6"
      },
      "source": [
        "learn_lm.fit_one_cycle(3, lr_max=5e-5, cbs=[WandbCallback(log_preds=False, log_model=False)]) "
      ],
      "execution_count": null,
      "outputs": []
    },
    {
      "cell_type": "code",
      "metadata": {
        "id": "pPiCP-mBZHVj"
      },
      "source": [
        "learn_lm.lr_find()"
      ],
      "execution_count": null,
      "outputs": []
    },
    {
      "cell_type": "code",
      "metadata": {
        "id": "0uAkoHIiZLTa"
      },
      "source": [
        "learn_lm.unfreeze()"
      ],
      "execution_count": null,
      "outputs": []
    },
    {
      "cell_type": "code",
      "metadata": {
        "id": "B2wfrhCtZOGK"
      },
      "source": [
        "learn_lm.fit_one_cycle(5,  lr_max=1e-3, cbs=[WandbCallback(log_preds=False, log_model=False)]) "
      ],
      "execution_count": null,
      "outputs": []
    },
    {
      "cell_type": "markdown",
      "metadata": {
        "id": "WdhhA9pxZbTs"
      },
      "source": [
        "# Evaluate"
      ]
    },
    {
      "cell_type": "code",
      "metadata": {
        "id": "ohG-GEO7ZTaC"
      },
      "source": [
        "val_res = learn_lm.validate()\n",
        "\n",
        "val_res_d = { 'loss': val_res[0]}\n",
        "for idx, m in enumerate(learn_lm.metrics):\n",
        "    val_res_d[m.name] = val_res[idx+1]\n",
        "    \n",
        "val_res_d"
      ],
      "execution_count": null,
      "outputs": []
    },
    {
      "cell_type": "code",
      "metadata": {
        "id": "e36RM7WnZV_r"
      },
      "source": [
        "preds, targs, losses = learn_lm.get_preds(with_loss=True)\n",
        "print(preds.shape, targs.shape, losses.shape)\n",
        "print(losses.mean(), accuracy(preds, targs))"
      ],
      "execution_count": null,
      "outputs": []
    },
    {
      "cell_type": "code",
      "metadata": {
        "id": "M38pCVQYZZnK"
      },
      "source": [
        "wandb.finish()"
      ],
      "execution_count": null,
      "outputs": []
    },
    {
      "cell_type": "markdown",
      "metadata": {
        "id": "VvXqPHjrZoSi"
      },
      "source": [
        "# Predict"
      ]
    },
    {
      "cell_type": "code",
      "metadata": {
        "id": "DHx2mdiFZe36"
      },
      "source": [
        "learn_lm.predict('മലയാള ികളായ ▁വിമാന യാത്ര ക്കാര',n_words=10)"
      ],
      "execution_count": null,
      "outputs": []
    },
    {
      "cell_type": "code",
      "metadata": {
        "id": "VTQ3kzhXZhEq"
      },
      "source": [
        "TEXT = \"ബംഗാളിലെ ▁ഭരണം ▁കമ്പനി\"\n",
        "N_WORDS = 40\n",
        "N_SENTENCES = 2"
      ],
      "execution_count": null,
      "outputs": []
    },
    {
      "cell_type": "code",
      "metadata": {
        "id": "vpU484gmZngS"
      },
      "source": [
        "print(\"\\n\".join(learn_lm.predict(TEXT, N_WORDS, temperature=0.75) for _ in range(N_SENTENCES)))"
      ],
      "execution_count": null,
      "outputs": []
    },
    {
      "cell_type": "markdown",
      "metadata": {
        "id": "TG0-razfZszT"
      },
      "source": [
        "# Save Model"
      ]
    },
    {
      "cell_type": "code",
      "metadata": {
        "id": "T3_O_dqUZsJr"
      },
      "source": [
        "learn_lm.save_encoder(LCL_PATH +'/data/fine_tuned_enc_001')"
      ],
      "execution_count": null,
      "outputs": []
    },
    {
      "cell_type": "code",
      "metadata": {
        "id": "mquvqJOHZvSD"
      },
      "source": [
        "learn_lm.save(f'{LCL_PATH}/models/language-model/ml-001epoch', with_opt=True)"
      ],
      "execution_count": null,
      "outputs": []
    },
    {
      "cell_type": "markdown",
      "metadata": {
        "id": "ZBuU1I8IZx46"
      },
      "source": [
        "# ReLoad Model"
      ]
    },
    {
      "cell_type": "code",
      "metadata": {
        "id": "lm-uCwcoZ0ZF"
      },
      "source": [
        "learn_lm.load(f'{LCL_PATH}/models/language-model/ml-001epoch', with_opt=True)"
      ],
      "execution_count": null,
      "outputs": []
    }
  ]
}